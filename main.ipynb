{
 "metadata": {
  "language_info": {
   "codemirror_mode": {
    "name": "ipython",
    "version": 3
   },
   "file_extension": ".py",
   "mimetype": "text/x-python",
   "name": "python",
   "nbconvert_exporter": "python",
   "pygments_lexer": "ipython3",
   "version": "3.8.5"
  },
  "orig_nbformat": 2,
  "kernelspec": {
   "name": "python3",
   "display_name": "Python 3.8.5 64-bit ('tflite': conda)"
  },
  "metadata": {
   "interpreter": {
    "hash": "6c0e1175fa50a981fbf4f031ee5f70a1ccd6cb3893c964a6fa48cc6450b6cfa5"
   }
  },
  "interpreter": {
   "hash": "6c0e1175fa50a981fbf4f031ee5f70a1ccd6cb3893c964a6fa48cc6450b6cfa5"
  }
 },
 "nbformat": 4,
 "nbformat_minor": 2,
 "cells": [
  {
   "source": [
    "## Imports"
   ],
   "cell_type": "markdown",
   "metadata": {}
  },
  {
   "cell_type": "code",
   "execution_count": 125,
   "metadata": {},
   "outputs": [],
   "source": [
    "import pandas as pd\n",
    "import numpy as np\n",
    "from sklearn.preprocessing import StandardScaler\n",
    "from sklearn.model_selection import train_test_split\n",
    "from sklearn.linear_model import LinearRegression\n",
    "from sklearn.metrics import r2_score"
   ]
  },
  {
   "source": [
    "## Gathering data"
   ],
   "cell_type": "markdown",
   "metadata": {}
  },
  {
   "cell_type": "code",
   "execution_count": 95,
   "metadata": {},
   "outputs": [],
   "source": [
    "df = pd.read_csv('./developer_survey_2020/survey_results_public.csv')"
   ]
  },
  {
   "source": [
    "## Assessing data"
   ],
   "cell_type": "markdown",
   "metadata": {}
  },
  {
   "cell_type": "code",
   "execution_count": 96,
   "metadata": {},
   "outputs": [
    {
     "output_type": "execute_result",
     "data": {
      "text/plain": [
       "                Column                                       QuestionText\n",
       "0           Respondent  Randomized respondent ID number (not in order ...\n",
       "1           MainBranch  Which of the following options best describes ...\n",
       "2             Hobbyist                            Do you code as a hobby?\n",
       "3                  Age  What is your age (in years)? If you prefer not...\n",
       "4           Age1stCode  At what age did you write your first line of c...\n",
       "..                 ...                                                ...\n",
       "56  WebframeWorkedWith  Which web frameworks have you done extensive d...\n",
       "57       WelcomeChange  Compared to last year, how welcome do you feel...\n",
       "58         WorkWeekHrs  On average, how many hours per week do you wor...\n",
       "59           YearsCode  Including any education, how many years have y...\n",
       "60        YearsCodePro  NOT including education, how many years have y...\n",
       "\n",
       "[61 rows x 2 columns]"
      ],
      "text/html": "<div>\n<style scoped>\n    .dataframe tbody tr th:only-of-type {\n        vertical-align: middle;\n    }\n\n    .dataframe tbody tr th {\n        vertical-align: top;\n    }\n\n    .dataframe thead th {\n        text-align: right;\n    }\n</style>\n<table border=\"1\" class=\"dataframe\">\n  <thead>\n    <tr style=\"text-align: right;\">\n      <th></th>\n      <th>Column</th>\n      <th>QuestionText</th>\n    </tr>\n  </thead>\n  <tbody>\n    <tr>\n      <th>0</th>\n      <td>Respondent</td>\n      <td>Randomized respondent ID number (not in order ...</td>\n    </tr>\n    <tr>\n      <th>1</th>\n      <td>MainBranch</td>\n      <td>Which of the following options best describes ...</td>\n    </tr>\n    <tr>\n      <th>2</th>\n      <td>Hobbyist</td>\n      <td>Do you code as a hobby?</td>\n    </tr>\n    <tr>\n      <th>3</th>\n      <td>Age</td>\n      <td>What is your age (in years)? If you prefer not...</td>\n    </tr>\n    <tr>\n      <th>4</th>\n      <td>Age1stCode</td>\n      <td>At what age did you write your first line of c...</td>\n    </tr>\n    <tr>\n      <th>...</th>\n      <td>...</td>\n      <td>...</td>\n    </tr>\n    <tr>\n      <th>56</th>\n      <td>WebframeWorkedWith</td>\n      <td>Which web frameworks have you done extensive d...</td>\n    </tr>\n    <tr>\n      <th>57</th>\n      <td>WelcomeChange</td>\n      <td>Compared to last year, how welcome do you feel...</td>\n    </tr>\n    <tr>\n      <th>58</th>\n      <td>WorkWeekHrs</td>\n      <td>On average, how many hours per week do you wor...</td>\n    </tr>\n    <tr>\n      <th>59</th>\n      <td>YearsCode</td>\n      <td>Including any education, how many years have y...</td>\n    </tr>\n    <tr>\n      <th>60</th>\n      <td>YearsCodePro</td>\n      <td>NOT including education, how many years have y...</td>\n    </tr>\n  </tbody>\n</table>\n<p>61 rows × 2 columns</p>\n</div>"
     },
     "metadata": {},
     "execution_count": 96
    }
   ],
   "source": [
    "schema = pd.read_csv('./developer_survey_2020/survey_results_schema.csv')\n",
    "schema"
   ]
  },
  {
   "cell_type": "code",
   "execution_count": 97,
   "metadata": {},
   "outputs": [
    {
     "output_type": "execute_result",
     "data": {
      "text/plain": [
       "Index(['Respondent', 'MainBranch', 'Hobbyist', 'Age', 'Age1stCode', 'CompFreq',\n",
       "       'CompTotal', 'ConvertedComp', 'Country', 'CurrencyDesc',\n",
       "       'CurrencySymbol', 'DatabaseDesireNextYear', 'DatabaseWorkedWith',\n",
       "       'DevType', 'EdLevel', 'Employment', 'Ethnicity', 'Gender', 'JobFactors',\n",
       "       'JobSat', 'JobSeek', 'LanguageDesireNextYear', 'LanguageWorkedWith',\n",
       "       'MiscTechDesireNextYear', 'MiscTechWorkedWith',\n",
       "       'NEWCollabToolsDesireNextYear', 'NEWCollabToolsWorkedWith', 'NEWDevOps',\n",
       "       'NEWDevOpsImpt', 'NEWEdImpt', 'NEWJobHunt', 'NEWJobHuntResearch',\n",
       "       'NEWLearn', 'NEWOffTopic', 'NEWOnboardGood', 'NEWOtherComms',\n",
       "       'NEWOvertime', 'NEWPurchaseResearch', 'NEWPurpleLink', 'NEWSOSites',\n",
       "       'NEWStuck', 'OpSys', 'OrgSize', 'PlatformDesireNextYear',\n",
       "       'PlatformWorkedWith', 'PurchaseWhat', 'Sexuality', 'SOAccount',\n",
       "       'SOComm', 'SOPartFreq', 'SOVisitFreq', 'SurveyEase', 'SurveyLength',\n",
       "       'Trans', 'UndergradMajor', 'WebframeDesireNextYear',\n",
       "       'WebframeWorkedWith', 'WelcomeChange', 'WorkWeekHrs', 'YearsCode',\n",
       "       'YearsCodePro'],\n",
       "      dtype='object')"
      ]
     },
     "metadata": {},
     "execution_count": 97
    }
   ],
   "source": [
    "df.columns"
   ]
  },
  {
   "source": [
    "## 1. Question: What are the differences between people who come from a STEM/ComSci background and those who did not?"
   ],
   "cell_type": "markdown",
   "metadata": {}
  },
  {
   "cell_type": "code",
   "execution_count": 98,
   "metadata": {},
   "outputs": [
    {
     "output_type": "execute_result",
     "data": {
      "text/plain": [
       "   Respondent                                         MainBranch Hobbyist  \\\n",
       "0           1                     I am a developer by profession      Yes   \n",
       "1           2                     I am a developer by profession       No   \n",
       "3           4                     I am a developer by profession      Yes   \n",
       "4           5  I used to be a developer by profession, but no...      Yes   \n",
       "6           7                     I am a developer by profession      Yes   \n",
       "\n",
       "    Age Age1stCode CompFreq  CompTotal  ConvertedComp         Country  \\\n",
       "0   NaN         13  Monthly        NaN            NaN         Germany   \n",
       "1   NaN         19      NaN        NaN            NaN  United Kingdom   \n",
       "3  25.0         18      NaN        NaN            NaN         Albania   \n",
       "4  31.0         16      NaN        NaN            NaN   United States   \n",
       "6   NaN         18  Monthly        NaN            NaN           India   \n",
       "\n",
       "           CurrencyDesc  ...                  SurveyEase  \\\n",
       "0         European Euro  ...  Neither easy nor difficult   \n",
       "1        Pound sterling  ...                         NaN   \n",
       "3          Albanian lek  ...                         NaN   \n",
       "4                   NaN  ...                        Easy   \n",
       "6  United States dollar  ...                         NaN   \n",
       "\n",
       "            SurveyLength Trans  \\\n",
       "0  Appropriate in length    No   \n",
       "1                    NaN   NaN   \n",
       "3                    NaN    No   \n",
       "4              Too short    No   \n",
       "6                    NaN   NaN   \n",
       "\n",
       "                                      UndergradMajor WebframeDesireNextYear  \\\n",
       "0  Computer science, computer engineering, or sof...           ASP.NET Core   \n",
       "1  Computer science, computer engineering, or sof...                    NaN   \n",
       "3  Computer science, computer engineering, or sof...                    NaN   \n",
       "4  Computer science, computer engineering, or sof...   Django;Ruby on Rails   \n",
       "6  Computer science, computer engineering, or sof...                    NaN   \n",
       "\n",
       "     WebframeWorkedWith                             WelcomeChange WorkWeekHrs  \\\n",
       "0  ASP.NET;ASP.NET Core   Just as welcome now as I felt last year        50.0   \n",
       "1                   NaN  Somewhat more welcome now than last year         NaN   \n",
       "3                   NaN  Somewhat less welcome now than last year        40.0   \n",
       "4         Ruby on Rails   Just as welcome now as I felt last year         NaN   \n",
       "6                   NaN     A lot more welcome now than last year         NaN   \n",
       "\n",
       "  YearsCode YearsCodePro  \n",
       "0        36           27  \n",
       "1         7            4  \n",
       "3         7            4  \n",
       "4        15            8  \n",
       "6         6            4  \n",
       "\n",
       "[5 rows x 61 columns]"
      ],
      "text/html": "<div>\n<style scoped>\n    .dataframe tbody tr th:only-of-type {\n        vertical-align: middle;\n    }\n\n    .dataframe tbody tr th {\n        vertical-align: top;\n    }\n\n    .dataframe thead th {\n        text-align: right;\n    }\n</style>\n<table border=\"1\" class=\"dataframe\">\n  <thead>\n    <tr style=\"text-align: right;\">\n      <th></th>\n      <th>Respondent</th>\n      <th>MainBranch</th>\n      <th>Hobbyist</th>\n      <th>Age</th>\n      <th>Age1stCode</th>\n      <th>CompFreq</th>\n      <th>CompTotal</th>\n      <th>ConvertedComp</th>\n      <th>Country</th>\n      <th>CurrencyDesc</th>\n      <th>...</th>\n      <th>SurveyEase</th>\n      <th>SurveyLength</th>\n      <th>Trans</th>\n      <th>UndergradMajor</th>\n      <th>WebframeDesireNextYear</th>\n      <th>WebframeWorkedWith</th>\n      <th>WelcomeChange</th>\n      <th>WorkWeekHrs</th>\n      <th>YearsCode</th>\n      <th>YearsCodePro</th>\n    </tr>\n  </thead>\n  <tbody>\n    <tr>\n      <th>0</th>\n      <td>1</td>\n      <td>I am a developer by profession</td>\n      <td>Yes</td>\n      <td>NaN</td>\n      <td>13</td>\n      <td>Monthly</td>\n      <td>NaN</td>\n      <td>NaN</td>\n      <td>Germany</td>\n      <td>European Euro</td>\n      <td>...</td>\n      <td>Neither easy nor difficult</td>\n      <td>Appropriate in length</td>\n      <td>No</td>\n      <td>Computer science, computer engineering, or sof...</td>\n      <td>ASP.NET Core</td>\n      <td>ASP.NET;ASP.NET Core</td>\n      <td>Just as welcome now as I felt last year</td>\n      <td>50.0</td>\n      <td>36</td>\n      <td>27</td>\n    </tr>\n    <tr>\n      <th>1</th>\n      <td>2</td>\n      <td>I am a developer by profession</td>\n      <td>No</td>\n      <td>NaN</td>\n      <td>19</td>\n      <td>NaN</td>\n      <td>NaN</td>\n      <td>NaN</td>\n      <td>United Kingdom</td>\n      <td>Pound sterling</td>\n      <td>...</td>\n      <td>NaN</td>\n      <td>NaN</td>\n      <td>NaN</td>\n      <td>Computer science, computer engineering, or sof...</td>\n      <td>NaN</td>\n      <td>NaN</td>\n      <td>Somewhat more welcome now than last year</td>\n      <td>NaN</td>\n      <td>7</td>\n      <td>4</td>\n    </tr>\n    <tr>\n      <th>3</th>\n      <td>4</td>\n      <td>I am a developer by profession</td>\n      <td>Yes</td>\n      <td>25.0</td>\n      <td>18</td>\n      <td>NaN</td>\n      <td>NaN</td>\n      <td>NaN</td>\n      <td>Albania</td>\n      <td>Albanian lek</td>\n      <td>...</td>\n      <td>NaN</td>\n      <td>NaN</td>\n      <td>No</td>\n      <td>Computer science, computer engineering, or sof...</td>\n      <td>NaN</td>\n      <td>NaN</td>\n      <td>Somewhat less welcome now than last year</td>\n      <td>40.0</td>\n      <td>7</td>\n      <td>4</td>\n    </tr>\n    <tr>\n      <th>4</th>\n      <td>5</td>\n      <td>I used to be a developer by profession, but no...</td>\n      <td>Yes</td>\n      <td>31.0</td>\n      <td>16</td>\n      <td>NaN</td>\n      <td>NaN</td>\n      <td>NaN</td>\n      <td>United States</td>\n      <td>NaN</td>\n      <td>...</td>\n      <td>Easy</td>\n      <td>Too short</td>\n      <td>No</td>\n      <td>Computer science, computer engineering, or sof...</td>\n      <td>Django;Ruby on Rails</td>\n      <td>Ruby on Rails</td>\n      <td>Just as welcome now as I felt last year</td>\n      <td>NaN</td>\n      <td>15</td>\n      <td>8</td>\n    </tr>\n    <tr>\n      <th>6</th>\n      <td>7</td>\n      <td>I am a developer by profession</td>\n      <td>Yes</td>\n      <td>NaN</td>\n      <td>18</td>\n      <td>Monthly</td>\n      <td>NaN</td>\n      <td>NaN</td>\n      <td>India</td>\n      <td>United States dollar</td>\n      <td>...</td>\n      <td>NaN</td>\n      <td>NaN</td>\n      <td>NaN</td>\n      <td>Computer science, computer engineering, or sof...</td>\n      <td>NaN</td>\n      <td>NaN</td>\n      <td>A lot more welcome now than last year</td>\n      <td>NaN</td>\n      <td>6</td>\n      <td>4</td>\n    </tr>\n  </tbody>\n</table>\n<p>5 rows × 61 columns</p>\n</div>"
     },
     "metadata": {},
     "execution_count": 98
    }
   ],
   "source": [
    "# drop respondents who did not give the major of their eduction\n",
    "df_1 = df.dropna(subset=['UndergradMajor'])\n",
    "df_1.head()"
   ]
  },
  {
   "cell_type": "code",
   "execution_count": 99,
   "metadata": {},
   "outputs": [
    {
     "output_type": "execute_result",
     "data": {
      "text/plain": [
       "['Computer science, computer engineering, or software engineering',\n",
       " 'Mathematics or statistics',\n",
       " 'Another engineering discipline (such as civil, electrical, mechanical, etc.)',\n",
       " 'A humanities discipline (such as literature, history, philosophy, etc.)',\n",
       " 'A health science (such as nursing, pharmacy, radiology, etc.)',\n",
       " 'Information systems, information technology, or system administration',\n",
       " 'Web development or web design',\n",
       " 'A natural science (such as biology, chemistry, physics, etc.)',\n",
       " 'Fine arts or performing arts (such as graphic design, music, studio art, etc.)',\n",
       " 'I never declared a major',\n",
       " 'A social science (such as anthropology, psychology, political science, etc.)',\n",
       " 'A business discipline (such as accounting, finance, marketing, etc.)']"
      ]
     },
     "metadata": {},
     "execution_count": 99
    }
   ],
   "source": [
    "df_1['UndergradMajor'].unique().tolist()"
   ]
  },
  {
   "cell_type": "code",
   "execution_count": 100,
   "metadata": {},
   "outputs": [
    {
     "output_type": "execute_result",
     "data": {
      "text/plain": [
       "(50995, 61)"
      ]
     },
     "metadata": {},
     "execution_count": 100
    }
   ],
   "source": [
    "df_1.shape"
   ]
  },
  {
   "cell_type": "code",
   "execution_count": 101,
   "metadata": {},
   "outputs": [
    {
     "output_type": "stream",
     "name": "stderr",
     "text": [
      "/opt/miniconda3/envs/tflite/lib/python3.8/site-packages/pandas/core/indexing.py:1596: SettingWithCopyWarning: \nA value is trying to be set on a copy of a slice from a DataFrame.\nTry using .loc[row_indexer,col_indexer] = value instead\n\nSee the caveats in the documentation: https://pandas.pydata.org/pandas-docs/stable/user_guide/indexing.html#returning-a-view-versus-a-copy\n  self.obj[key] = _infer_fill_value(value)\n/opt/miniconda3/envs/tflite/lib/python3.8/site-packages/pandas/core/indexing.py:1745: SettingWithCopyWarning: \nA value is trying to be set on a copy of a slice from a DataFrame.\nTry using .loc[row_indexer,col_indexer] = value instead\n\nSee the caveats in the documentation: https://pandas.pydata.org/pandas-docs/stable/user_guide/indexing.html#returning-a-view-versus-a-copy\n  isetter(ilocs[0], value)\n"
     ]
    },
    {
     "output_type": "execute_result",
     "data": {
      "text/plain": [
       "   Respondent                                         MainBranch Hobbyist  \\\n",
       "0           1                     I am a developer by profession      Yes   \n",
       "1           2                     I am a developer by profession       No   \n",
       "3           4                     I am a developer by profession      Yes   \n",
       "4           5  I used to be a developer by profession, but no...      Yes   \n",
       "6           7                     I am a developer by profession      Yes   \n",
       "\n",
       "    Age Age1stCode CompFreq  CompTotal  ConvertedComp         Country  \\\n",
       "0   NaN         13  Monthly        NaN            NaN         Germany   \n",
       "1   NaN         19      NaN        NaN            NaN  United Kingdom   \n",
       "3  25.0         18      NaN        NaN            NaN         Albania   \n",
       "4  31.0         16      NaN        NaN            NaN   United States   \n",
       "6   NaN         18  Monthly        NaN            NaN           India   \n",
       "\n",
       "           CurrencyDesc  ...           SurveyLength Trans  \\\n",
       "0         European Euro  ...  Appropriate in length    No   \n",
       "1        Pound sterling  ...                    NaN   NaN   \n",
       "3          Albanian lek  ...                    NaN    No   \n",
       "4                   NaN  ...              Too short    No   \n",
       "6  United States dollar  ...                    NaN   NaN   \n",
       "\n",
       "                                      UndergradMajor WebframeDesireNextYear  \\\n",
       "0  Computer science, computer engineering, or sof...           ASP.NET Core   \n",
       "1  Computer science, computer engineering, or sof...                    NaN   \n",
       "3  Computer science, computer engineering, or sof...                    NaN   \n",
       "4  Computer science, computer engineering, or sof...   Django;Ruby on Rails   \n",
       "6  Computer science, computer engineering, or sof...                    NaN   \n",
       "\n",
       "     WebframeWorkedWith                             WelcomeChange WorkWeekHrs  \\\n",
       "0  ASP.NET;ASP.NET Core   Just as welcome now as I felt last year        50.0   \n",
       "1                   NaN  Somewhat more welcome now than last year         NaN   \n",
       "3                   NaN  Somewhat less welcome now than last year        40.0   \n",
       "4         Ruby on Rails   Just as welcome now as I felt last year         NaN   \n",
       "6                   NaN     A lot more welcome now than last year         NaN   \n",
       "\n",
       "  YearsCode YearsCodePro HasBackground  \n",
       "0        36           27             1  \n",
       "1         7            4             1  \n",
       "3         7            4             1  \n",
       "4        15            8             1  \n",
       "6         6            4             1  \n",
       "\n",
       "[5 rows x 62 columns]"
      ],
      "text/html": "<div>\n<style scoped>\n    .dataframe tbody tr th:only-of-type {\n        vertical-align: middle;\n    }\n\n    .dataframe tbody tr th {\n        vertical-align: top;\n    }\n\n    .dataframe thead th {\n        text-align: right;\n    }\n</style>\n<table border=\"1\" class=\"dataframe\">\n  <thead>\n    <tr style=\"text-align: right;\">\n      <th></th>\n      <th>Respondent</th>\n      <th>MainBranch</th>\n      <th>Hobbyist</th>\n      <th>Age</th>\n      <th>Age1stCode</th>\n      <th>CompFreq</th>\n      <th>CompTotal</th>\n      <th>ConvertedComp</th>\n      <th>Country</th>\n      <th>CurrencyDesc</th>\n      <th>...</th>\n      <th>SurveyLength</th>\n      <th>Trans</th>\n      <th>UndergradMajor</th>\n      <th>WebframeDesireNextYear</th>\n      <th>WebframeWorkedWith</th>\n      <th>WelcomeChange</th>\n      <th>WorkWeekHrs</th>\n      <th>YearsCode</th>\n      <th>YearsCodePro</th>\n      <th>HasBackground</th>\n    </tr>\n  </thead>\n  <tbody>\n    <tr>\n      <th>0</th>\n      <td>1</td>\n      <td>I am a developer by profession</td>\n      <td>Yes</td>\n      <td>NaN</td>\n      <td>13</td>\n      <td>Monthly</td>\n      <td>NaN</td>\n      <td>NaN</td>\n      <td>Germany</td>\n      <td>European Euro</td>\n      <td>...</td>\n      <td>Appropriate in length</td>\n      <td>No</td>\n      <td>Computer science, computer engineering, or sof...</td>\n      <td>ASP.NET Core</td>\n      <td>ASP.NET;ASP.NET Core</td>\n      <td>Just as welcome now as I felt last year</td>\n      <td>50.0</td>\n      <td>36</td>\n      <td>27</td>\n      <td>1</td>\n    </tr>\n    <tr>\n      <th>1</th>\n      <td>2</td>\n      <td>I am a developer by profession</td>\n      <td>No</td>\n      <td>NaN</td>\n      <td>19</td>\n      <td>NaN</td>\n      <td>NaN</td>\n      <td>NaN</td>\n      <td>United Kingdom</td>\n      <td>Pound sterling</td>\n      <td>...</td>\n      <td>NaN</td>\n      <td>NaN</td>\n      <td>Computer science, computer engineering, or sof...</td>\n      <td>NaN</td>\n      <td>NaN</td>\n      <td>Somewhat more welcome now than last year</td>\n      <td>NaN</td>\n      <td>7</td>\n      <td>4</td>\n      <td>1</td>\n    </tr>\n    <tr>\n      <th>3</th>\n      <td>4</td>\n      <td>I am a developer by profession</td>\n      <td>Yes</td>\n      <td>25.0</td>\n      <td>18</td>\n      <td>NaN</td>\n      <td>NaN</td>\n      <td>NaN</td>\n      <td>Albania</td>\n      <td>Albanian lek</td>\n      <td>...</td>\n      <td>NaN</td>\n      <td>No</td>\n      <td>Computer science, computer engineering, or sof...</td>\n      <td>NaN</td>\n      <td>NaN</td>\n      <td>Somewhat less welcome now than last year</td>\n      <td>40.0</td>\n      <td>7</td>\n      <td>4</td>\n      <td>1</td>\n    </tr>\n    <tr>\n      <th>4</th>\n      <td>5</td>\n      <td>I used to be a developer by profession, but no...</td>\n      <td>Yes</td>\n      <td>31.0</td>\n      <td>16</td>\n      <td>NaN</td>\n      <td>NaN</td>\n      <td>NaN</td>\n      <td>United States</td>\n      <td>NaN</td>\n      <td>...</td>\n      <td>Too short</td>\n      <td>No</td>\n      <td>Computer science, computer engineering, or sof...</td>\n      <td>Django;Ruby on Rails</td>\n      <td>Ruby on Rails</td>\n      <td>Just as welcome now as I felt last year</td>\n      <td>NaN</td>\n      <td>15</td>\n      <td>8</td>\n      <td>1</td>\n    </tr>\n    <tr>\n      <th>6</th>\n      <td>7</td>\n      <td>I am a developer by profession</td>\n      <td>Yes</td>\n      <td>NaN</td>\n      <td>18</td>\n      <td>Monthly</td>\n      <td>NaN</td>\n      <td>NaN</td>\n      <td>India</td>\n      <td>United States dollar</td>\n      <td>...</td>\n      <td>NaN</td>\n      <td>NaN</td>\n      <td>Computer science, computer engineering, or sof...</td>\n      <td>NaN</td>\n      <td>NaN</td>\n      <td>A lot more welcome now than last year</td>\n      <td>NaN</td>\n      <td>6</td>\n      <td>4</td>\n      <td>1</td>\n    </tr>\n  </tbody>\n</table>\n<p>5 rows × 62 columns</p>\n</div>"
     },
     "metadata": {},
     "execution_count": 101
    }
   ],
   "source": [
    "# create conditional var whether someone has majored in STEM or not \n",
    "df_1.loc[:,'HasBackground'] = df.UndergradMajor.isin(['Computer science, computer engineering, or software engineering',\n",
    " 'Mathematics or statistics',\n",
    " 'Another engineering discipline (such as civil, electrical, mechanical, etc.)','Information systems, information technology, or system administration',\n",
    " 'Web development or web design',\n",
    " 'A natural science (such as biology, chemistry, physics, etc.)']).astype(int)\n",
    "df_1.head()"
   ]
  },
  {
   "cell_type": "code",
   "execution_count": 102,
   "metadata": {},
   "outputs": [
    {
     "output_type": "stream",
     "name": "stderr",
     "text": [
      "/opt/miniconda3/envs/tflite/lib/python3.8/site-packages/pandas/core/indexing.py:1765: SettingWithCopyWarning: \n",
      "A value is trying to be set on a copy of a slice from a DataFrame.\n",
      "Try using .loc[row_indexer,col_indexer] = value instead\n",
      "\n",
      "See the caveats in the documentation: https://pandas.pydata.org/pandas-docs/stable/user_guide/indexing.html#returning-a-view-versus-a-copy\n",
      "  isetter(loc, value)\n",
      "<ipython-input-102-ed7c9d4abb9a>:10: SettingWithCopyWarning: \n",
      "A value is trying to be set on a copy of a slice from a DataFrame.\n",
      "Try using .loc[row_indexer,col_indexer] = value instead\n",
      "\n",
      "See the caveats in the documentation: https://pandas.pydata.org/pandas-docs/stable/user_guide/indexing.html#returning-a-view-versus-a-copy\n",
      "  df_2['YearsCode'] = df_2['YearsCode'].astype(float)\n",
      "<ipython-input-102-ed7c9d4abb9a>:11: SettingWithCopyWarning: \n",
      "A value is trying to be set on a copy of a slice from a DataFrame.\n",
      "Try using .loc[row_indexer,col_indexer] = value instead\n",
      "\n",
      "See the caveats in the documentation: https://pandas.pydata.org/pandas-docs/stable/user_guide/indexing.html#returning-a-view-versus-a-copy\n",
      "  df_2['YearsCodePro'] = df_2['YearsCodePro'].astype(float)\n",
      "<ipython-input-102-ed7c9d4abb9a>:12: SettingWithCopyWarning: \n",
      "A value is trying to be set on a copy of a slice from a DataFrame.\n",
      "Try using .loc[row_indexer,col_indexer] = value instead\n",
      "\n",
      "See the caveats in the documentation: https://pandas.pydata.org/pandas-docs/stable/user_guide/indexing.html#returning-a-view-versus-a-copy\n",
      "  df_2['Age1stCode'] = df_2['Age1stCode'].astype(float)\n"
     ]
    }
   ],
   "source": [
    "# select fewer variables of interest\n",
    "df_2 = df_1[['Respondent', 'MainBranch', 'Hobbyist', 'Age1stCode', 'EdLevel', 'Employment', 'JobSat', 'JobSeek', 'YearsCode', 'YearsCodePro', 'HasBackground']]\n",
    "# make some of the conditional vars numerical, as I think it makes more sense that way\n",
    "df_2.loc[df_2['YearsCode'] == 'Less than 1 year', 'YearsCode'] = 0\n",
    "df_2.loc[df_2['YearsCode'] == 'More than 50 years', 'YearsCode'] = 51\n",
    "df_2.loc[df_2['YearsCodePro'] == 'Less than 1 year', 'YearsCodePro'] = 0\n",
    "df_2.loc[df_2['YearsCodePro'] == 'More than 50 years', 'YearsCodePro'] = 51\n",
    "df_2.loc[df_2['Age1stCode'] == 'Younger than 5 years', 'Age1stCode'] = 4\n",
    "df_2.loc[df_2['Age1stCode'] == 'Older than 85', 'Age1stCode'] = 86\n",
    "df_2['YearsCode'] = df_2['YearsCode'].astype(float)\n",
    "df_2['YearsCodePro'] = df_2['YearsCodePro'].astype(float)\n",
    "df_2['Age1stCode'] = df_2['Age1stCode'].astype(float)"
   ]
  },
  {
   "cell_type": "code",
   "execution_count": 103,
   "metadata": {},
   "outputs": [
    {
     "output_type": "stream",
     "name": "stderr",
     "text": [
      "/opt/miniconda3/envs/tflite/lib/python3.8/site-packages/pandas/core/series.py:4517: SettingWithCopyWarning: \nA value is trying to be set on a copy of a slice from a DataFrame\n\nSee the caveats in the documentation: https://pandas.pydata.org/pandas-docs/stable/user_guide/indexing.html#returning-a-view-versus-a-copy\n  return super().fillna(\n"
     ]
    }
   ],
   "source": [
    "# Fill numeric columns with the mean\n",
    "num_vars = df_2.select_dtypes(include=['float', 'int']).columns\n",
    "for col in num_vars:\n",
    "    df_2[col].fillna((df_2[col].mean()), inplace=True)\n",
    "    \n",
    "# Dummy the categorical variables\n",
    "cat_vars = df_2.select_dtypes(include=['object']).copy().columns\n",
    "for var in cat_vars:\n",
    "    # for each cat add dummy var, drop original column\n",
    "    df_2 = pd.concat([df_2.drop(var, axis=1), pd.get_dummies(df_2[var], prefix=var, prefix_sep='_')], axis=1)\n"
   ]
  },
  {
   "cell_type": "code",
   "execution_count": 104,
   "metadata": {},
   "outputs": [
    {
     "output_type": "execute_result",
     "data": {
      "text/plain": [
       "(46250, 33)"
      ]
     },
     "metadata": {},
     "execution_count": 104
    }
   ],
   "source": [
    "df_2_STEM = df_2[df_2['HasBackground'] == 1]\n",
    "df_2_STEM.shape"
   ]
  },
  {
   "cell_type": "code",
   "execution_count": 105,
   "metadata": {},
   "outputs": [
    {
     "output_type": "execute_result",
     "data": {
      "text/plain": [
       "    Respondent  Age1stCode  YearsCode  YearsCodePro  HasBackground  \\\n",
       "26          27        12.0       20.0     20.000000              0   \n",
       "27          28        22.0        2.0      8.525492              0   \n",
       "47          48        30.0        8.0      8.000000              0   \n",
       "49          50        46.0       10.0      9.000000              0   \n",
       "50          51        10.0       23.0      7.000000              0   \n",
       "\n",
       "    MainBranch_I am a developer by profession  \\\n",
       "26                                          0   \n",
       "27                                          0   \n",
       "47                                          1   \n",
       "49                                          1   \n",
       "50                                          1   \n",
       "\n",
       "    MainBranch_I am a student who is learning to code  \\\n",
       "26                                                  0   \n",
       "27                                                  1   \n",
       "47                                                  0   \n",
       "49                                                  0   \n",
       "50                                                  0   \n",
       "\n",
       "    MainBranch_I am not primarily a developer, but I write code sometimes as part of my work  \\\n",
       "26                                                  0                                          \n",
       "27                                                  0                                          \n",
       "47                                                  0                                          \n",
       "49                                                  0                                          \n",
       "50                                                  0                                          \n",
       "\n",
       "    MainBranch_I code primarily as a hobby  \\\n",
       "26                                       0   \n",
       "27                                       0   \n",
       "47                                       0   \n",
       "49                                       0   \n",
       "50                                       0   \n",
       "\n",
       "    MainBranch_I used to be a developer by profession, but no longer am  ...  \\\n",
       "26                                                  1                    ...   \n",
       "27                                                  0                    ...   \n",
       "47                                                  0                    ...   \n",
       "49                                                  0                    ...   \n",
       "50                                                  0                    ...   \n",
       "\n",
       "    Employment_Retired  Employment_Student  \\\n",
       "26                   0                   0   \n",
       "27                   0                   1   \n",
       "47                   0                   0   \n",
       "49                   0                   0   \n",
       "50                   0                   0   \n",
       "\n",
       "    JobSat_Neither satisfied nor dissatisfied  JobSat_Slightly dissatisfied  \\\n",
       "26                                          0                             0   \n",
       "27                                          0                             0   \n",
       "47                                          0                             1   \n",
       "49                                          0                             0   \n",
       "50                                          0                             0   \n",
       "\n",
       "    JobSat_Slightly satisfied  JobSat_Very dissatisfied  \\\n",
       "26                          0                         0   \n",
       "27                          0                         0   \n",
       "47                          0                         0   \n",
       "49                          1                         0   \n",
       "50                          1                         0   \n",
       "\n",
       "    JobSat_Very satisfied  JobSeek_I am actively looking for a job  \\\n",
       "26                      0                                        0   \n",
       "27                      0                                        0   \n",
       "47                      0                                        1   \n",
       "49                      0                                        0   \n",
       "50                      0                                        0   \n",
       "\n",
       "    JobSeek_I am not interested in new job opportunities  \\\n",
       "26                                                  0      \n",
       "27                                                  0      \n",
       "47                                                  0      \n",
       "49                                                  0      \n",
       "50                                                  0      \n",
       "\n",
       "    JobSeek_I’m not actively looking, but I am open to new opportunities  \n",
       "26                                                  0                     \n",
       "27                                                  1                     \n",
       "47                                                  0                     \n",
       "49                                                  1                     \n",
       "50                                                  1                     \n",
       "\n",
       "[5 rows x 33 columns]"
      ],
      "text/html": "<div>\n<style scoped>\n    .dataframe tbody tr th:only-of-type {\n        vertical-align: middle;\n    }\n\n    .dataframe tbody tr th {\n        vertical-align: top;\n    }\n\n    .dataframe thead th {\n        text-align: right;\n    }\n</style>\n<table border=\"1\" class=\"dataframe\">\n  <thead>\n    <tr style=\"text-align: right;\">\n      <th></th>\n      <th>Respondent</th>\n      <th>Age1stCode</th>\n      <th>YearsCode</th>\n      <th>YearsCodePro</th>\n      <th>HasBackground</th>\n      <th>MainBranch_I am a developer by profession</th>\n      <th>MainBranch_I am a student who is learning to code</th>\n      <th>MainBranch_I am not primarily a developer, but I write code sometimes as part of my work</th>\n      <th>MainBranch_I code primarily as a hobby</th>\n      <th>MainBranch_I used to be a developer by profession, but no longer am</th>\n      <th>...</th>\n      <th>Employment_Retired</th>\n      <th>Employment_Student</th>\n      <th>JobSat_Neither satisfied nor dissatisfied</th>\n      <th>JobSat_Slightly dissatisfied</th>\n      <th>JobSat_Slightly satisfied</th>\n      <th>JobSat_Very dissatisfied</th>\n      <th>JobSat_Very satisfied</th>\n      <th>JobSeek_I am actively looking for a job</th>\n      <th>JobSeek_I am not interested in new job opportunities</th>\n      <th>JobSeek_I’m not actively looking, but I am open to new opportunities</th>\n    </tr>\n  </thead>\n  <tbody>\n    <tr>\n      <th>26</th>\n      <td>27</td>\n      <td>12.0</td>\n      <td>20.0</td>\n      <td>20.000000</td>\n      <td>0</td>\n      <td>0</td>\n      <td>0</td>\n      <td>0</td>\n      <td>0</td>\n      <td>1</td>\n      <td>...</td>\n      <td>0</td>\n      <td>0</td>\n      <td>0</td>\n      <td>0</td>\n      <td>0</td>\n      <td>0</td>\n      <td>0</td>\n      <td>0</td>\n      <td>0</td>\n      <td>0</td>\n    </tr>\n    <tr>\n      <th>27</th>\n      <td>28</td>\n      <td>22.0</td>\n      <td>2.0</td>\n      <td>8.525492</td>\n      <td>0</td>\n      <td>0</td>\n      <td>1</td>\n      <td>0</td>\n      <td>0</td>\n      <td>0</td>\n      <td>...</td>\n      <td>0</td>\n      <td>1</td>\n      <td>0</td>\n      <td>0</td>\n      <td>0</td>\n      <td>0</td>\n      <td>0</td>\n      <td>0</td>\n      <td>0</td>\n      <td>1</td>\n    </tr>\n    <tr>\n      <th>47</th>\n      <td>48</td>\n      <td>30.0</td>\n      <td>8.0</td>\n      <td>8.000000</td>\n      <td>0</td>\n      <td>1</td>\n      <td>0</td>\n      <td>0</td>\n      <td>0</td>\n      <td>0</td>\n      <td>...</td>\n      <td>0</td>\n      <td>0</td>\n      <td>0</td>\n      <td>1</td>\n      <td>0</td>\n      <td>0</td>\n      <td>0</td>\n      <td>1</td>\n      <td>0</td>\n      <td>0</td>\n    </tr>\n    <tr>\n      <th>49</th>\n      <td>50</td>\n      <td>46.0</td>\n      <td>10.0</td>\n      <td>9.000000</td>\n      <td>0</td>\n      <td>1</td>\n      <td>0</td>\n      <td>0</td>\n      <td>0</td>\n      <td>0</td>\n      <td>...</td>\n      <td>0</td>\n      <td>0</td>\n      <td>0</td>\n      <td>0</td>\n      <td>1</td>\n      <td>0</td>\n      <td>0</td>\n      <td>0</td>\n      <td>0</td>\n      <td>1</td>\n    </tr>\n    <tr>\n      <th>50</th>\n      <td>51</td>\n      <td>10.0</td>\n      <td>23.0</td>\n      <td>7.000000</td>\n      <td>0</td>\n      <td>1</td>\n      <td>0</td>\n      <td>0</td>\n      <td>0</td>\n      <td>0</td>\n      <td>...</td>\n      <td>0</td>\n      <td>0</td>\n      <td>0</td>\n      <td>0</td>\n      <td>1</td>\n      <td>0</td>\n      <td>0</td>\n      <td>0</td>\n      <td>0</td>\n      <td>1</td>\n    </tr>\n  </tbody>\n</table>\n<p>5 rows × 33 columns</p>\n</div>"
     },
     "metadata": {},
     "execution_count": 105
    }
   ],
   "source": [
    "df_2_NOTSTEM = df_2[df_2['HasBackground'] == 0]\n",
    "df_2_NOTSTEM.head()"
   ]
  },
  {
   "cell_type": "code",
   "execution_count": 106,
   "metadata": {},
   "outputs": [
    {
     "output_type": "execute_result",
     "data": {
      "text/plain": [
       "                                                    STEMbackground  \\\n",
       "Age1stCode                                               15.302807   \n",
       "YearsCode                                                13.410821   \n",
       "YearsCodePro                                              8.538450   \n",
       "MainBranch_I am a developer by profession                 0.798551   \n",
       "MainBranch_I am not primarily a developer, but ...        0.080411   \n",
       "EdLevel_Some college/university study without e...        0.130768   \n",
       "EdLevel_Bachelor’s degree (B.A., B.S., B.Eng., ...        0.510703   \n",
       "EdLevel_Master’s degree (M.A., M.S., M.Eng., MB...        0.253946   \n",
       "Employment_Independent contractor, freelancer, ...        0.085362   \n",
       "Employment_Employed full-time                             0.761557   \n",
       "JobSeek_I’m not actively looking, but I am open...        0.519178   \n",
       "MainBranch_I code primarily as a hobby                    0.015784   \n",
       "Employment_Student                                        0.078595   \n",
       "JobSat_Neither satisfied nor dissatisfied                 0.107762   \n",
       "JobSat_Very satisfied                                     0.262119   \n",
       "JobSeek_I am not interested in new job opportun...        0.221665   \n",
       "Employment_Not employed, but looking for work             0.032259   \n",
       "JobSeek_I am actively looking for a job                   0.156303   \n",
       "JobSat_Slightly dissatisfied                              0.130984   \n",
       "EdLevel_Professional degree (JD, MD, etc.)                0.014270   \n",
       "\n",
       "                                                    nonSTEMbackground  \\\n",
       "Age1stCode                                                  17.896123   \n",
       "YearsCode                                                   12.118370   \n",
       "YearsCodePro                                                 8.399191   \n",
       "MainBranch_I am a developer by profession                    0.668072   \n",
       "MainBranch_I am not primarily a developer, but ...           0.171549   \n",
       "EdLevel_Some college/university study without e...           0.203583   \n",
       "EdLevel_Bachelor’s degree (B.A., B.S., B.Eng., ...           0.464489   \n",
       "EdLevel_Master’s degree (M.A., M.S., M.Eng., MB...           0.213488   \n",
       "Employment_Independent contractor, freelancer, ...           0.125395   \n",
       "Employment_Employed full-time                                0.722023   \n",
       "JobSeek_I’m not actively looking, but I am open...           0.480295   \n",
       "MainBranch_I code primarily as a hobby                       0.053741   \n",
       "Employment_Student                                           0.050158   \n",
       "JobSat_Neither satisfied nor dissatisfied                    0.081770   \n",
       "JobSat_Very satisfied                                        0.286196   \n",
       "JobSeek_I am not interested in new job opportun...           0.242571   \n",
       "Employment_Not employed, but looking for work                0.048894   \n",
       "JobSeek_I am actively looking for a job                      0.141623   \n",
       "JobSat_Slightly dissatisfied                                 0.117597   \n",
       "EdLevel_Professional degree (JD, MD, etc.)                   0.022339   \n",
       "\n",
       "                                                    difference  \n",
       "Age1stCode                                            2.593316  \n",
       "YearsCode                                             1.292452  \n",
       "YearsCodePro                                          0.139259  \n",
       "MainBranch_I am a developer by profession             0.130480  \n",
       "MainBranch_I am not primarily a developer, but ...    0.091138  \n",
       "EdLevel_Some college/university study without e...    0.072815  \n",
       "EdLevel_Bachelor’s degree (B.A., B.S., B.Eng., ...    0.046214  \n",
       "EdLevel_Master’s degree (M.A., M.S., M.Eng., MB...    0.040458  \n",
       "Employment_Independent contractor, freelancer, ...    0.040033  \n",
       "Employment_Employed full-time                         0.039534  \n",
       "JobSeek_I’m not actively looking, but I am open...    0.038883  \n",
       "MainBranch_I code primarily as a hobby                0.037957  \n",
       "Employment_Student                                    0.028437  \n",
       "JobSat_Neither satisfied nor dissatisfied             0.025992  \n",
       "JobSat_Very satisfied                                 0.024077  \n",
       "JobSeek_I am not interested in new job opportun...    0.020906  \n",
       "Employment_Not employed, but looking for work         0.016634  \n",
       "JobSeek_I am actively looking for a job               0.014680  \n",
       "JobSat_Slightly dissatisfied                          0.013386  \n",
       "EdLevel_Professional degree (JD, MD, etc.)            0.008069  "
      ],
      "text/html": "<div>\n<style scoped>\n    .dataframe tbody tr th:only-of-type {\n        vertical-align: middle;\n    }\n\n    .dataframe tbody tr th {\n        vertical-align: top;\n    }\n\n    .dataframe thead th {\n        text-align: right;\n    }\n</style>\n<table border=\"1\" class=\"dataframe\">\n  <thead>\n    <tr style=\"text-align: right;\">\n      <th></th>\n      <th>STEMbackground</th>\n      <th>nonSTEMbackground</th>\n      <th>difference</th>\n    </tr>\n  </thead>\n  <tbody>\n    <tr>\n      <th>Age1stCode</th>\n      <td>15.302807</td>\n      <td>17.896123</td>\n      <td>2.593316</td>\n    </tr>\n    <tr>\n      <th>YearsCode</th>\n      <td>13.410821</td>\n      <td>12.118370</td>\n      <td>1.292452</td>\n    </tr>\n    <tr>\n      <th>YearsCodePro</th>\n      <td>8.538450</td>\n      <td>8.399191</td>\n      <td>0.139259</td>\n    </tr>\n    <tr>\n      <th>MainBranch_I am a developer by profession</th>\n      <td>0.798551</td>\n      <td>0.668072</td>\n      <td>0.130480</td>\n    </tr>\n    <tr>\n      <th>MainBranch_I am not primarily a developer, but I write code sometimes as part of my work</th>\n      <td>0.080411</td>\n      <td>0.171549</td>\n      <td>0.091138</td>\n    </tr>\n    <tr>\n      <th>EdLevel_Some college/university study without earning a degree</th>\n      <td>0.130768</td>\n      <td>0.203583</td>\n      <td>0.072815</td>\n    </tr>\n    <tr>\n      <th>EdLevel_Bachelor’s degree (B.A., B.S., B.Eng., etc.)</th>\n      <td>0.510703</td>\n      <td>0.464489</td>\n      <td>0.046214</td>\n    </tr>\n    <tr>\n      <th>EdLevel_Master’s degree (M.A., M.S., M.Eng., MBA, etc.)</th>\n      <td>0.253946</td>\n      <td>0.213488</td>\n      <td>0.040458</td>\n    </tr>\n    <tr>\n      <th>Employment_Independent contractor, freelancer, or self-employed</th>\n      <td>0.085362</td>\n      <td>0.125395</td>\n      <td>0.040033</td>\n    </tr>\n    <tr>\n      <th>Employment_Employed full-time</th>\n      <td>0.761557</td>\n      <td>0.722023</td>\n      <td>0.039534</td>\n    </tr>\n    <tr>\n      <th>JobSeek_I’m not actively looking, but I am open to new opportunities</th>\n      <td>0.519178</td>\n      <td>0.480295</td>\n      <td>0.038883</td>\n    </tr>\n    <tr>\n      <th>MainBranch_I code primarily as a hobby</th>\n      <td>0.015784</td>\n      <td>0.053741</td>\n      <td>0.037957</td>\n    </tr>\n    <tr>\n      <th>Employment_Student</th>\n      <td>0.078595</td>\n      <td>0.050158</td>\n      <td>0.028437</td>\n    </tr>\n    <tr>\n      <th>JobSat_Neither satisfied nor dissatisfied</th>\n      <td>0.107762</td>\n      <td>0.081770</td>\n      <td>0.025992</td>\n    </tr>\n    <tr>\n      <th>JobSat_Very satisfied</th>\n      <td>0.262119</td>\n      <td>0.286196</td>\n      <td>0.024077</td>\n    </tr>\n    <tr>\n      <th>JobSeek_I am not interested in new job opportunities</th>\n      <td>0.221665</td>\n      <td>0.242571</td>\n      <td>0.020906</td>\n    </tr>\n    <tr>\n      <th>Employment_Not employed, but looking for work</th>\n      <td>0.032259</td>\n      <td>0.048894</td>\n      <td>0.016634</td>\n    </tr>\n    <tr>\n      <th>JobSeek_I am actively looking for a job</th>\n      <td>0.156303</td>\n      <td>0.141623</td>\n      <td>0.014680</td>\n    </tr>\n    <tr>\n      <th>JobSat_Slightly dissatisfied</th>\n      <td>0.130984</td>\n      <td>0.117597</td>\n      <td>0.013386</td>\n    </tr>\n    <tr>\n      <th>EdLevel_Professional degree (JD, MD, etc.)</th>\n      <td>0.014270</td>\n      <td>0.022339</td>\n      <td>0.008069</td>\n    </tr>\n  </tbody>\n</table>\n</div>"
     },
     "metadata": {},
     "execution_count": 106
    }
   ],
   "source": [
    "# find columns with biggest difference in mean between STEM and not-STEM\n",
    "df_res_1 = pd.DataFrame([df_2_STEM.mean(), df_2_NOTSTEM.mean()]).transpose().rename(columns={0: 'STEMbackground', 1: 'nonSTEMbackground'})\n",
    "df_res_1['difference'] = abs(df_res_1['STEMbackground'] - df_res_1['nonSTEMbackground'])\n",
    "df_res_1 = df_res_1.sort_values(by='difference', ascending=False).drop(labels=['Respondent', 'HasBackground'])\n",
    "df_res_1.head(20)"
   ]
  },
  {
   "source": [
    "## 2. Question: Which factors influence hourly wage? How to maximize it?"
   ],
   "cell_type": "markdown",
   "metadata": {}
  },
  {
   "cell_type": "code",
   "execution_count": 169,
   "metadata": {},
   "outputs": [
    {
     "output_type": "execute_result",
     "data": {
      "text/plain": [
       "(33658, 61)"
      ]
     },
     "metadata": {},
     "execution_count": 169
    }
   ],
   "source": [
    "df_3 = df.dropna(subset=['ConvertedComp', 'WorkWeekHrs'], how='any')\n",
    "df_3.shape"
   ]
  },
  {
   "cell_type": "code",
   "execution_count": 170,
   "metadata": {},
   "outputs": [
    {
     "output_type": "stream",
     "name": "stderr",
     "text": [
      "/opt/miniconda3/envs/tflite/lib/python3.8/site-packages/pandas/core/indexing.py:1596: SettingWithCopyWarning: \nA value is trying to be set on a copy of a slice from a DataFrame.\nTry using .loc[row_indexer,col_indexer] = value instead\n\nSee the caveats in the documentation: https://pandas.pydata.org/pandas-docs/stable/user_guide/indexing.html#returning-a-view-versus-a-copy\n  self.obj[key] = _infer_fill_value(value)\n/opt/miniconda3/envs/tflite/lib/python3.8/site-packages/pandas/core/indexing.py:1745: SettingWithCopyWarning: \nA value is trying to be set on a copy of a slice from a DataFrame.\nTry using .loc[row_indexer,col_indexer] = value instead\n\nSee the caveats in the documentation: https://pandas.pydata.org/pandas-docs/stable/user_guide/indexing.html#returning-a-view-versus-a-copy\n  isetter(ilocs[0], value)\n"
     ]
    },
    {
     "output_type": "execute_result",
     "data": {
      "text/plain": [
       "    Respondent                                         MainBranch Hobbyist  \\\n",
       "7            8                     I am a developer by profession      Yes   \n",
       "9           10                     I am a developer by profession      Yes   \n",
       "10          11                     I am a developer by profession      Yes   \n",
       "11          12                     I am a developer by profession       No   \n",
       "12          13  I am not primarily a developer, but I write co...      Yes   \n",
       "\n",
       "     Age Age1stCode CompFreq  CompTotal  ConvertedComp         Country  \\\n",
       "7   36.0         12   Yearly   116000.0       116000.0   United States   \n",
       "9   22.0         14   Yearly    25000.0        32315.0  United Kingdom   \n",
       "10  23.0         13   Yearly    31000.0        40070.0  United Kingdom   \n",
       "11  49.0         42  Monthly     1100.0        14268.0           Spain   \n",
       "12  53.0         14  Monthly     3000.0        38916.0     Netherlands   \n",
       "\n",
       "            CurrencyDesc  ...           SurveyLength Trans  \\\n",
       "7   United States dollar  ...  Appropriate in length    No   \n",
       "9         Pound sterling  ...  Appropriate in length    No   \n",
       "10        Pound sterling  ...  Appropriate in length    No   \n",
       "11         European Euro  ...  Appropriate in length    No   \n",
       "12         European Euro  ...               Too long    No   \n",
       "\n",
       "                                       UndergradMajor  \\\n",
       "7   Computer science, computer engineering, or sof...   \n",
       "9                           Mathematics or statistics   \n",
       "10  Computer science, computer engineering, or sof...   \n",
       "11                          Mathematics or statistics   \n",
       "12                                                NaN   \n",
       "\n",
       "     WebframeDesireNextYear                  WebframeWorkedWith  \\\n",
       "7    Django;React.js;Vue.js                               Flask   \n",
       "9              Flask;jQuery                        Flask;jQuery   \n",
       "10  Angular;Django;React.js  Angular;Angular.js;Django;React.js   \n",
       "11           ASP.NET;jQuery                      ASP.NET;jQuery   \n",
       "12                      NaN                                 NaN   \n",
       "\n",
       "                               WelcomeChange WorkWeekHrs YearsCode  \\\n",
       "7    Just as welcome now as I felt last year        39.0        17   \n",
       "9   Somewhat more welcome now than last year        36.0         8   \n",
       "10   Just as welcome now as I felt last year        40.0        10   \n",
       "11   Just as welcome now as I felt last year        40.0         7   \n",
       "12     A lot less welcome now than last year        36.0        35   \n",
       "\n",
       "   YearsCodePro HourlyComp  \n",
       "7            13  59.487179  \n",
       "9             4  17.952778  \n",
       "10            2  20.035000  \n",
       "11            7   7.134000  \n",
       "12           20  21.620000  \n",
       "\n",
       "[5 rows x 62 columns]"
      ],
      "text/html": "<div>\n<style scoped>\n    .dataframe tbody tr th:only-of-type {\n        vertical-align: middle;\n    }\n\n    .dataframe tbody tr th {\n        vertical-align: top;\n    }\n\n    .dataframe thead th {\n        text-align: right;\n    }\n</style>\n<table border=\"1\" class=\"dataframe\">\n  <thead>\n    <tr style=\"text-align: right;\">\n      <th></th>\n      <th>Respondent</th>\n      <th>MainBranch</th>\n      <th>Hobbyist</th>\n      <th>Age</th>\n      <th>Age1stCode</th>\n      <th>CompFreq</th>\n      <th>CompTotal</th>\n      <th>ConvertedComp</th>\n      <th>Country</th>\n      <th>CurrencyDesc</th>\n      <th>...</th>\n      <th>SurveyLength</th>\n      <th>Trans</th>\n      <th>UndergradMajor</th>\n      <th>WebframeDesireNextYear</th>\n      <th>WebframeWorkedWith</th>\n      <th>WelcomeChange</th>\n      <th>WorkWeekHrs</th>\n      <th>YearsCode</th>\n      <th>YearsCodePro</th>\n      <th>HourlyComp</th>\n    </tr>\n  </thead>\n  <tbody>\n    <tr>\n      <th>7</th>\n      <td>8</td>\n      <td>I am a developer by profession</td>\n      <td>Yes</td>\n      <td>36.0</td>\n      <td>12</td>\n      <td>Yearly</td>\n      <td>116000.0</td>\n      <td>116000.0</td>\n      <td>United States</td>\n      <td>United States dollar</td>\n      <td>...</td>\n      <td>Appropriate in length</td>\n      <td>No</td>\n      <td>Computer science, computer engineering, or sof...</td>\n      <td>Django;React.js;Vue.js</td>\n      <td>Flask</td>\n      <td>Just as welcome now as I felt last year</td>\n      <td>39.0</td>\n      <td>17</td>\n      <td>13</td>\n      <td>59.487179</td>\n    </tr>\n    <tr>\n      <th>9</th>\n      <td>10</td>\n      <td>I am a developer by profession</td>\n      <td>Yes</td>\n      <td>22.0</td>\n      <td>14</td>\n      <td>Yearly</td>\n      <td>25000.0</td>\n      <td>32315.0</td>\n      <td>United Kingdom</td>\n      <td>Pound sterling</td>\n      <td>...</td>\n      <td>Appropriate in length</td>\n      <td>No</td>\n      <td>Mathematics or statistics</td>\n      <td>Flask;jQuery</td>\n      <td>Flask;jQuery</td>\n      <td>Somewhat more welcome now than last year</td>\n      <td>36.0</td>\n      <td>8</td>\n      <td>4</td>\n      <td>17.952778</td>\n    </tr>\n    <tr>\n      <th>10</th>\n      <td>11</td>\n      <td>I am a developer by profession</td>\n      <td>Yes</td>\n      <td>23.0</td>\n      <td>13</td>\n      <td>Yearly</td>\n      <td>31000.0</td>\n      <td>40070.0</td>\n      <td>United Kingdom</td>\n      <td>Pound sterling</td>\n      <td>...</td>\n      <td>Appropriate in length</td>\n      <td>No</td>\n      <td>Computer science, computer engineering, or sof...</td>\n      <td>Angular;Django;React.js</td>\n      <td>Angular;Angular.js;Django;React.js</td>\n      <td>Just as welcome now as I felt last year</td>\n      <td>40.0</td>\n      <td>10</td>\n      <td>2</td>\n      <td>20.035000</td>\n    </tr>\n    <tr>\n      <th>11</th>\n      <td>12</td>\n      <td>I am a developer by profession</td>\n      <td>No</td>\n      <td>49.0</td>\n      <td>42</td>\n      <td>Monthly</td>\n      <td>1100.0</td>\n      <td>14268.0</td>\n      <td>Spain</td>\n      <td>European Euro</td>\n      <td>...</td>\n      <td>Appropriate in length</td>\n      <td>No</td>\n      <td>Mathematics or statistics</td>\n      <td>ASP.NET;jQuery</td>\n      <td>ASP.NET;jQuery</td>\n      <td>Just as welcome now as I felt last year</td>\n      <td>40.0</td>\n      <td>7</td>\n      <td>7</td>\n      <td>7.134000</td>\n    </tr>\n    <tr>\n      <th>12</th>\n      <td>13</td>\n      <td>I am not primarily a developer, but I write co...</td>\n      <td>Yes</td>\n      <td>53.0</td>\n      <td>14</td>\n      <td>Monthly</td>\n      <td>3000.0</td>\n      <td>38916.0</td>\n      <td>Netherlands</td>\n      <td>European Euro</td>\n      <td>...</td>\n      <td>Too long</td>\n      <td>No</td>\n      <td>NaN</td>\n      <td>NaN</td>\n      <td>NaN</td>\n      <td>A lot less welcome now than last year</td>\n      <td>36.0</td>\n      <td>35</td>\n      <td>20</td>\n      <td>21.620000</td>\n    </tr>\n  </tbody>\n</table>\n<p>5 rows × 62 columns</p>\n</div>"
     },
     "metadata": {},
     "execution_count": 170
    }
   ],
   "source": [
    "df_3.loc[:,'HourlyComp'] = df['ConvertedComp'].copy()/(50*df['WorkWeekHrs'].copy())\n",
    "df_3.head()"
   ]
  },
  {
   "cell_type": "code",
   "execution_count": 171,
   "metadata": {},
   "outputs": [
    {
     "output_type": "stream",
     "name": "stderr",
     "text": [
      "/opt/miniconda3/envs/tflite/lib/python3.8/site-packages/pandas/core/indexing.py:1765: SettingWithCopyWarning: \nA value is trying to be set on a copy of a slice from a DataFrame.\nTry using .loc[row_indexer,col_indexer] = value instead\n\nSee the caveats in the documentation: https://pandas.pydata.org/pandas-docs/stable/user_guide/indexing.html#returning-a-view-versus-a-copy\n  isetter(loc, value)\n<ipython-input-171-788842df8c2a>:8: SettingWithCopyWarning: \nA value is trying to be set on a copy of a slice from a DataFrame.\nTry using .loc[row_indexer,col_indexer] = value instead\n\nSee the caveats in the documentation: https://pandas.pydata.org/pandas-docs/stable/user_guide/indexing.html#returning-a-view-versus-a-copy\n  df_4['YearsCode'] = df_4['YearsCode'].astype(float)\n<ipython-input-171-788842df8c2a>:9: SettingWithCopyWarning: \nA value is trying to be set on a copy of a slice from a DataFrame.\nTry using .loc[row_indexer,col_indexer] = value instead\n\nSee the caveats in the documentation: https://pandas.pydata.org/pandas-docs/stable/user_guide/indexing.html#returning-a-view-versus-a-copy\n  df_4['YearsCodePro'] = df_4['YearsCodePro'].astype(float)\n<ipython-input-171-788842df8c2a>:10: SettingWithCopyWarning: \nA value is trying to be set on a copy of a slice from a DataFrame.\nTry using .loc[row_indexer,col_indexer] = value instead\n\nSee the caveats in the documentation: https://pandas.pydata.org/pandas-docs/stable/user_guide/indexing.html#returning-a-view-versus-a-copy\n  df_4['Age1stCode'] = df_4['Age1stCode'].astype(float)\n"
     ]
    },
    {
     "output_type": "execute_result",
     "data": {
      "text/plain": [
       "    Respondent                                         MainBranch Hobbyist  \\\n",
       "7            8                     I am a developer by profession      Yes   \n",
       "9           10                     I am a developer by profession      Yes   \n",
       "10          11                     I am a developer by profession      Yes   \n",
       "11          12                     I am a developer by profession       No   \n",
       "12          13  I am not primarily a developer, but I write co...      Yes   \n",
       "\n",
       "     Age  Age1stCode                                            EdLevel  \\\n",
       "7   36.0        12.0       Bachelor’s degree (B.A., B.S., B.Eng., etc.)   \n",
       "9   22.0        14.0    Master’s degree (M.A., M.S., M.Eng., MBA, etc.)   \n",
       "10  23.0        13.0       Bachelor’s degree (B.A., B.S., B.Eng., etc.)   \n",
       "11  49.0        42.0  Some college/university study without earning ...   \n",
       "12  53.0        14.0  Secondary school (e.g. American high school, G...   \n",
       "\n",
       "            Employment Gender                 JobSat  \\\n",
       "7   Employed full-time    Man  Slightly dissatisfied   \n",
       "9   Employed full-time    Man         Very satisfied   \n",
       "10  Employed full-time    Man  Slightly dissatisfied   \n",
       "11  Employed full-time    Man      Very dissatisfied   \n",
       "12  Employed full-time    Man         Very satisfied   \n",
       "\n",
       "                     OrgSize                      PurchaseWhat Trans  \\\n",
       "7         20 to 99 employees             I have some influence    No   \n",
       "9           2 to 9 employees  I have a great deal of influence    No   \n",
       "10  10,000 or more employees     I have little or no influence    No   \n",
       "11          2 to 9 employees     I have little or no influence    No   \n",
       "12          2 to 9 employees             I have some influence    No   \n",
       "\n",
       "                                       UndergradMajor  YearsCode  \\\n",
       "7   Computer science, computer engineering, or sof...       17.0   \n",
       "9                           Mathematics or statistics        8.0   \n",
       "10  Computer science, computer engineering, or sof...       10.0   \n",
       "11                          Mathematics or statistics        7.0   \n",
       "12                                                NaN       35.0   \n",
       "\n",
       "    YearsCodePro  HourlyComp  \n",
       "7           13.0   59.487179  \n",
       "9            4.0   17.952778  \n",
       "10           2.0   20.035000  \n",
       "11           7.0    7.134000  \n",
       "12          20.0   21.620000  "
      ],
      "text/html": "<div>\n<style scoped>\n    .dataframe tbody tr th:only-of-type {\n        vertical-align: middle;\n    }\n\n    .dataframe tbody tr th {\n        vertical-align: top;\n    }\n\n    .dataframe thead th {\n        text-align: right;\n    }\n</style>\n<table border=\"1\" class=\"dataframe\">\n  <thead>\n    <tr style=\"text-align: right;\">\n      <th></th>\n      <th>Respondent</th>\n      <th>MainBranch</th>\n      <th>Hobbyist</th>\n      <th>Age</th>\n      <th>Age1stCode</th>\n      <th>EdLevel</th>\n      <th>Employment</th>\n      <th>Gender</th>\n      <th>JobSat</th>\n      <th>OrgSize</th>\n      <th>PurchaseWhat</th>\n      <th>Trans</th>\n      <th>UndergradMajor</th>\n      <th>YearsCode</th>\n      <th>YearsCodePro</th>\n      <th>HourlyComp</th>\n    </tr>\n  </thead>\n  <tbody>\n    <tr>\n      <th>7</th>\n      <td>8</td>\n      <td>I am a developer by profession</td>\n      <td>Yes</td>\n      <td>36.0</td>\n      <td>12.0</td>\n      <td>Bachelor’s degree (B.A., B.S., B.Eng., etc.)</td>\n      <td>Employed full-time</td>\n      <td>Man</td>\n      <td>Slightly dissatisfied</td>\n      <td>20 to 99 employees</td>\n      <td>I have some influence</td>\n      <td>No</td>\n      <td>Computer science, computer engineering, or sof...</td>\n      <td>17.0</td>\n      <td>13.0</td>\n      <td>59.487179</td>\n    </tr>\n    <tr>\n      <th>9</th>\n      <td>10</td>\n      <td>I am a developer by profession</td>\n      <td>Yes</td>\n      <td>22.0</td>\n      <td>14.0</td>\n      <td>Master’s degree (M.A., M.S., M.Eng., MBA, etc.)</td>\n      <td>Employed full-time</td>\n      <td>Man</td>\n      <td>Very satisfied</td>\n      <td>2 to 9 employees</td>\n      <td>I have a great deal of influence</td>\n      <td>No</td>\n      <td>Mathematics or statistics</td>\n      <td>8.0</td>\n      <td>4.0</td>\n      <td>17.952778</td>\n    </tr>\n    <tr>\n      <th>10</th>\n      <td>11</td>\n      <td>I am a developer by profession</td>\n      <td>Yes</td>\n      <td>23.0</td>\n      <td>13.0</td>\n      <td>Bachelor’s degree (B.A., B.S., B.Eng., etc.)</td>\n      <td>Employed full-time</td>\n      <td>Man</td>\n      <td>Slightly dissatisfied</td>\n      <td>10,000 or more employees</td>\n      <td>I have little or no influence</td>\n      <td>No</td>\n      <td>Computer science, computer engineering, or sof...</td>\n      <td>10.0</td>\n      <td>2.0</td>\n      <td>20.035000</td>\n    </tr>\n    <tr>\n      <th>11</th>\n      <td>12</td>\n      <td>I am a developer by profession</td>\n      <td>No</td>\n      <td>49.0</td>\n      <td>42.0</td>\n      <td>Some college/university study without earning ...</td>\n      <td>Employed full-time</td>\n      <td>Man</td>\n      <td>Very dissatisfied</td>\n      <td>2 to 9 employees</td>\n      <td>I have little or no influence</td>\n      <td>No</td>\n      <td>Mathematics or statistics</td>\n      <td>7.0</td>\n      <td>7.0</td>\n      <td>7.134000</td>\n    </tr>\n    <tr>\n      <th>12</th>\n      <td>13</td>\n      <td>I am not primarily a developer, but I write co...</td>\n      <td>Yes</td>\n      <td>53.0</td>\n      <td>14.0</td>\n      <td>Secondary school (e.g. American high school, G...</td>\n      <td>Employed full-time</td>\n      <td>Man</td>\n      <td>Very satisfied</td>\n      <td>2 to 9 employees</td>\n      <td>I have some influence</td>\n      <td>No</td>\n      <td>NaN</td>\n      <td>35.0</td>\n      <td>20.0</td>\n      <td>21.620000</td>\n    </tr>\n  </tbody>\n</table>\n</div>"
     },
     "metadata": {},
     "execution_count": 171
    }
   ],
   "source": [
    "# choose relevant columns\n",
    "df_4 = df_3[['Respondent', 'MainBranch', 'Hobbyist', 'Age', 'Age1stCode',  'EdLevel', 'Employment', 'Gender', 'JobSat', 'OrgSize', 'PurchaseWhat', 'Trans', 'UndergradMajor', 'YearsCode', 'YearsCodePro', 'HourlyComp']]\n",
    "# make some categorical variables numeric\n",
    "df_4.loc[df_4['YearsCode'] == 'Less than 1 year', 'YearsCode'] = 0\n",
    "df_4.loc[df_4['YearsCode'] == 'More than 50 years', 'YearsCode'] = 51\n",
    "df_4.loc[df_4['YearsCodePro'] == 'Less than 1 year', 'YearsCodePro'] = 0\n",
    "df_4.loc[df_4['YearsCodePro'] == 'More than 50 years', 'YearsCodePro'] = 51\n",
    "df_4.loc[df_4['Age1stCode'] == 'Younger than 5 years', 'Age1stCode'] = 4\n",
    "df_4.loc[df_4['Age1stCode'] == 'Older than 85', 'Age1stCode'] = 86\n",
    "df_4['YearsCode'] = df_4['YearsCode'].astype(float)\n",
    "df_4['YearsCodePro'] = df_4['YearsCodePro'].astype(float)\n",
    "df_4['Age1stCode'] = df_4['Age1stCode'].astype(float)\n",
    "df_4.head()"
   ]
  },
  {
   "cell_type": "code",
   "execution_count": 172,
   "metadata": {},
   "outputs": [
    {
     "output_type": "stream",
     "name": "stderr",
     "text": [
      "/opt/miniconda3/envs/tflite/lib/python3.8/site-packages/pandas/core/series.py:4517: SettingWithCopyWarning: \nA value is trying to be set on a copy of a slice from a DataFrame\n\nSee the caveats in the documentation: https://pandas.pydata.org/pandas-docs/stable/user_guide/indexing.html#returning-a-view-versus-a-copy\n  return super().fillna(\n"
     ]
    }
   ],
   "source": [
    "# Fill numeric columns with the mean\n",
    "num_vars = df_4.select_dtypes(include=['float', 'int']).columns\n",
    "for col in num_vars:\n",
    "    df_4[col].fillna((df_4[col].mean()), inplace=True)\n",
    "    \n",
    "# Dummy the categorical variables\n",
    "cat_vars = df_4.select_dtypes(include=['object']).copy().columns\n",
    "for var in cat_vars:\n",
    "    # for each cat add dummy var, drop original column\n",
    "    df_4 = pd.concat([df_4.drop(var, axis=1), pd.get_dummies(df_4[var], prefix=var, prefix_sep='_')], axis=1)\n"
   ]
  },
  {
   "cell_type": "code",
   "execution_count": 173,
   "metadata": {},
   "outputs": [],
   "source": [
    "# split into train and test set\n",
    "y = df_4['HourlyComp']\n",
    "X = df_4.drop(columns=['HourlyComp'])\n",
    "\n",
    "X_train, X_test, y_train, y_test = train_test_split(X, y, test_size=.2, random_state=42)"
   ]
  },
  {
   "cell_type": "code",
   "execution_count": 174,
   "metadata": {},
   "outputs": [
    {
     "output_type": "execute_result",
     "data": {
      "text/plain": [
       "-0.008260005218442945"
      ]
     },
     "metadata": {},
     "execution_count": 174
    }
   ],
   "source": [
    "# fit model\n",
    "lm_model = LinearRegression(normalize=True)\n",
    "lm_model.fit(X_train, y_train)\n",
    "y_pred = lm_model.predict(X_test)\n",
    "r2_score(y_test, y_pred)"
   ]
  },
  {
   "cell_type": "code",
   "execution_count": 175,
   "metadata": {},
   "outputs": [
    {
     "output_type": "execute_result",
     "data": {
      "text/plain": [
       "                                              est_int         coefs  \\\n",
       "7                                         Hobbyist_No  1.156312e+14   \n",
       "8                                        Hobbyist_Yes  1.156312e+14   \n",
       "5           MainBranch_I am a developer by profession -3.379505e+13   \n",
       "6   MainBranch_I am not primarily a developer, but... -3.379505e+13   \n",
       "16  EdLevel_Secondary school (e.g. American high s... -8.355474e+01   \n",
       "15         EdLevel_Professional degree (JD, MD, etc.) -6.428498e+01   \n",
       "37                           OrgSize_2 to 9 employees -6.234352e+01   \n",
       "20  Employment_Independent contractor, freelancer,...  6.161569e+01   \n",
       "34                         OrgSize_10 to 19 employees -6.121245e+01   \n",
       "25                                   Gender_Woman;Man -5.329907e+01   \n",
       "38                         OrgSize_20 to 99 employees -5.166704e+01   \n",
       "13  EdLevel_Other doctoral degree (Ph.D., Ed.D., e... -4.740058e+01   \n",
       "14                  EdLevel_Primary/elementary school -4.694873e+01   \n",
       "17  EdLevel_Some college/university study without ... -4.613439e+01   \n",
       "40                       OrgSize_500 to 999 employees -4.611735e+01   \n",
       "36                       OrgSize_100 to 499 employees -4.533172e+01   \n",
       "52  UndergradMajor_Another engineering discipline ... -4.435903e+01   \n",
       "11     EdLevel_I never completed any formal education -4.277098e+01   \n",
       "56  UndergradMajor_Information systems, informatio... -4.166335e+01   \n",
       "48  UndergradMajor_A health science (such as nursi... -4.163942e+01   \n",
       "\n",
       "       abs_coefs  \n",
       "7   1.156312e+14  \n",
       "8   1.156312e+14  \n",
       "5   3.379505e+13  \n",
       "6   3.379505e+13  \n",
       "16  8.355474e+01  \n",
       "15  6.428498e+01  \n",
       "37  6.234352e+01  \n",
       "20  6.161569e+01  \n",
       "34  6.121245e+01  \n",
       "25  5.329907e+01  \n",
       "38  5.166704e+01  \n",
       "13  4.740058e+01  \n",
       "14  4.694873e+01  \n",
       "17  4.613439e+01  \n",
       "40  4.611735e+01  \n",
       "36  4.533172e+01  \n",
       "52  4.435903e+01  \n",
       "11  4.277098e+01  \n",
       "56  4.166335e+01  \n",
       "48  4.163942e+01  "
      ],
      "text/html": "<div>\n<style scoped>\n    .dataframe tbody tr th:only-of-type {\n        vertical-align: middle;\n    }\n\n    .dataframe tbody tr th {\n        vertical-align: top;\n    }\n\n    .dataframe thead th {\n        text-align: right;\n    }\n</style>\n<table border=\"1\" class=\"dataframe\">\n  <thead>\n    <tr style=\"text-align: right;\">\n      <th></th>\n      <th>est_int</th>\n      <th>coefs</th>\n      <th>abs_coefs</th>\n    </tr>\n  </thead>\n  <tbody>\n    <tr>\n      <th>7</th>\n      <td>Hobbyist_No</td>\n      <td>1.156312e+14</td>\n      <td>1.156312e+14</td>\n    </tr>\n    <tr>\n      <th>8</th>\n      <td>Hobbyist_Yes</td>\n      <td>1.156312e+14</td>\n      <td>1.156312e+14</td>\n    </tr>\n    <tr>\n      <th>5</th>\n      <td>MainBranch_I am a developer by profession</td>\n      <td>-3.379505e+13</td>\n      <td>3.379505e+13</td>\n    </tr>\n    <tr>\n      <th>6</th>\n      <td>MainBranch_I am not primarily a developer, but...</td>\n      <td>-3.379505e+13</td>\n      <td>3.379505e+13</td>\n    </tr>\n    <tr>\n      <th>16</th>\n      <td>EdLevel_Secondary school (e.g. American high s...</td>\n      <td>-8.355474e+01</td>\n      <td>8.355474e+01</td>\n    </tr>\n    <tr>\n      <th>15</th>\n      <td>EdLevel_Professional degree (JD, MD, etc.)</td>\n      <td>-6.428498e+01</td>\n      <td>6.428498e+01</td>\n    </tr>\n    <tr>\n      <th>37</th>\n      <td>OrgSize_2 to 9 employees</td>\n      <td>-6.234352e+01</td>\n      <td>6.234352e+01</td>\n    </tr>\n    <tr>\n      <th>20</th>\n      <td>Employment_Independent contractor, freelancer,...</td>\n      <td>6.161569e+01</td>\n      <td>6.161569e+01</td>\n    </tr>\n    <tr>\n      <th>34</th>\n      <td>OrgSize_10 to 19 employees</td>\n      <td>-6.121245e+01</td>\n      <td>6.121245e+01</td>\n    </tr>\n    <tr>\n      <th>25</th>\n      <td>Gender_Woman;Man</td>\n      <td>-5.329907e+01</td>\n      <td>5.329907e+01</td>\n    </tr>\n    <tr>\n      <th>38</th>\n      <td>OrgSize_20 to 99 employees</td>\n      <td>-5.166704e+01</td>\n      <td>5.166704e+01</td>\n    </tr>\n    <tr>\n      <th>13</th>\n      <td>EdLevel_Other doctoral degree (Ph.D., Ed.D., e...</td>\n      <td>-4.740058e+01</td>\n      <td>4.740058e+01</td>\n    </tr>\n    <tr>\n      <th>14</th>\n      <td>EdLevel_Primary/elementary school</td>\n      <td>-4.694873e+01</td>\n      <td>4.694873e+01</td>\n    </tr>\n    <tr>\n      <th>17</th>\n      <td>EdLevel_Some college/university study without ...</td>\n      <td>-4.613439e+01</td>\n      <td>4.613439e+01</td>\n    </tr>\n    <tr>\n      <th>40</th>\n      <td>OrgSize_500 to 999 employees</td>\n      <td>-4.611735e+01</td>\n      <td>4.611735e+01</td>\n    </tr>\n    <tr>\n      <th>36</th>\n      <td>OrgSize_100 to 499 employees</td>\n      <td>-4.533172e+01</td>\n      <td>4.533172e+01</td>\n    </tr>\n    <tr>\n      <th>52</th>\n      <td>UndergradMajor_Another engineering discipline ...</td>\n      <td>-4.435903e+01</td>\n      <td>4.435903e+01</td>\n    </tr>\n    <tr>\n      <th>11</th>\n      <td>EdLevel_I never completed any formal education</td>\n      <td>-4.277098e+01</td>\n      <td>4.277098e+01</td>\n    </tr>\n    <tr>\n      <th>56</th>\n      <td>UndergradMajor_Information systems, informatio...</td>\n      <td>-4.166335e+01</td>\n      <td>4.166335e+01</td>\n    </tr>\n    <tr>\n      <th>48</th>\n      <td>UndergradMajor_A health science (such as nursi...</td>\n      <td>-4.163942e+01</td>\n      <td>4.163942e+01</td>\n    </tr>\n  </tbody>\n</table>\n</div>"
     },
     "metadata": {},
     "execution_count": 175
    }
   ],
   "source": [
    "# find correlations by coefficients in linear model\n",
    "coefs_df = pd.DataFrame()\n",
    "coefs_df['est_int'] = X_train.columns\n",
    "coefs_df['coefs'] = lm_model.coef_\n",
    "coefs_df['abs_coefs'] = np.abs(lm_model.coef_)\n",
    "coefs_df = coefs_df.sort_values('abs_coefs', ascending=False)\n",
    "coefs_df.head(20)"
   ]
  },
  {
   "source": [
    "## 3. Question: How does experience change the way coders handle problems?"
   ],
   "cell_type": "markdown",
   "metadata": {}
  },
  {
   "cell_type": "code",
   "execution_count": 159,
   "metadata": {},
   "outputs": [
    {
     "output_type": "execute_result",
     "data": {
      "text/plain": [
       "(53085, 61)"
      ]
     },
     "metadata": {},
     "execution_count": 159
    }
   ],
   "source": [
    "df_5 = df.dropna(subset=['YearsCode', 'NEWStuck'])\n",
    "df_5.shape"
   ]
  },
  {
   "cell_type": "code",
   "execution_count": 160,
   "metadata": {},
   "outputs": [
    {
     "output_type": "stream",
     "name": "stderr",
     "text": [
      "<ipython-input-160-0826f3a31831>:1: SettingWithCopyWarning: \nA value is trying to be set on a copy of a slice from a DataFrame.\nTry using .loc[row_indexer,col_indexer] = value instead\n\nSee the caveats in the documentation: https://pandas.pydata.org/pandas-docs/stable/user_guide/indexing.html#returning-a-view-versus-a-copy\n  df_5['NEWStuck'] = df_5['NEWStuck'].str.split(';', expand=False)\n"
     ]
    }
   ],
   "source": [
    "df_5['NEWStuck'] = df_5['NEWStuck'].str.split(';', expand=False)"
   ]
  },
  {
   "cell_type": "code",
   "execution_count": 161,
   "metadata": {},
   "outputs": [
    {
     "output_type": "execute_result",
     "data": {
      "text/plain": [
       "                                                NEWStuck YearsCode\n",
       "0      [Visit Stack Overflow, Go for a walk or other ...        36\n",
       "1      [Visit Stack Overflow, Go for a walk or other ...         7\n",
       "4      [Call a coworker or friend, Visit Stack Overfl...        15\n",
       "5      [Play games, Visit Stack Overflow, Watch help ...         6\n",
       "7      [Play games, Call a coworker or friend, Visit ...        17\n",
       "...                                                  ...       ...\n",
       "64441  [Visit Stack Overflow, Go for a walk or other ...         7\n",
       "64446  [Call a coworker or friend, Visit Stack Overfl...         6\n",
       "64447  [Call a coworker or friend, Watch help / tutor...         6\n",
       "64453                     [Watch help / tutorial videos]         3\n",
       "64456                        [Call a coworker or friend]        10\n",
       "\n",
       "[53085 rows x 2 columns]"
      ],
      "text/html": "<div>\n<style scoped>\n    .dataframe tbody tr th:only-of-type {\n        vertical-align: middle;\n    }\n\n    .dataframe tbody tr th {\n        vertical-align: top;\n    }\n\n    .dataframe thead th {\n        text-align: right;\n    }\n</style>\n<table border=\"1\" class=\"dataframe\">\n  <thead>\n    <tr style=\"text-align: right;\">\n      <th></th>\n      <th>NEWStuck</th>\n      <th>YearsCode</th>\n    </tr>\n  </thead>\n  <tbody>\n    <tr>\n      <th>0</th>\n      <td>[Visit Stack Overflow, Go for a walk or other ...</td>\n      <td>36</td>\n    </tr>\n    <tr>\n      <th>1</th>\n      <td>[Visit Stack Overflow, Go for a walk or other ...</td>\n      <td>7</td>\n    </tr>\n    <tr>\n      <th>4</th>\n      <td>[Call a coworker or friend, Visit Stack Overfl...</td>\n      <td>15</td>\n    </tr>\n    <tr>\n      <th>5</th>\n      <td>[Play games, Visit Stack Overflow, Watch help ...</td>\n      <td>6</td>\n    </tr>\n    <tr>\n      <th>7</th>\n      <td>[Play games, Call a coworker or friend, Visit ...</td>\n      <td>17</td>\n    </tr>\n    <tr>\n      <th>...</th>\n      <td>...</td>\n      <td>...</td>\n    </tr>\n    <tr>\n      <th>64441</th>\n      <td>[Visit Stack Overflow, Go for a walk or other ...</td>\n      <td>7</td>\n    </tr>\n    <tr>\n      <th>64446</th>\n      <td>[Call a coworker or friend, Visit Stack Overfl...</td>\n      <td>6</td>\n    </tr>\n    <tr>\n      <th>64447</th>\n      <td>[Call a coworker or friend, Watch help / tutor...</td>\n      <td>6</td>\n    </tr>\n    <tr>\n      <th>64453</th>\n      <td>[Watch help / tutorial videos]</td>\n      <td>3</td>\n    </tr>\n    <tr>\n      <th>64456</th>\n      <td>[Call a coworker or friend]</td>\n      <td>10</td>\n    </tr>\n  </tbody>\n</table>\n<p>53085 rows × 2 columns</p>\n</div>"
     },
     "metadata": {},
     "execution_count": 161
    }
   ],
   "source": [
    "df_6 = df_5[['NEWStuck', 'YearsCode']]\n",
    "df_6"
   ]
  },
  {
   "cell_type": "code",
   "execution_count": 162,
   "metadata": {},
   "outputs": [],
   "source": [
    "possible_answers = ['Call a coworker or friend',\n",
    "'Visit Stack Overflow',\n",
    "'Watch help / tutorial videos',\n",
    "'Panic',\n",
    "'Go for a walk or other physical activity',\n",
    "'Meditate',\n",
    "'Do other work and come back later', 'Play games']\n",
    "def list_to_dummies(row):\n",
    "    \"\"\" \n",
    "    splits elements in list in NEWStuck into dummy variables for each element\n",
    "    \"\"\"\n",
    "    for answer in possible_answers:\n",
    "        if answer in row['NEWStuck']:\n",
    "            row[answer] = 1\n",
    "        else:\n",
    "            row[answer] = 0\n",
    "    return row\n",
    "\n",
    "df_6 = df_6.apply(list_to_dummies, axis=1)\n",
    "df_6 = df_6.drop(columns=['NEWStuck'])"
   ]
  },
  {
   "cell_type": "code",
   "execution_count": 163,
   "metadata": {},
   "outputs": [
    {
     "output_type": "execute_result",
     "data": {
      "text/plain": [
       "  YearsCode  Call a coworker or friend  Visit Stack Overflow  \\\n",
       "0        36                          0                     1   \n",
       "1         7                          0                     1   \n",
       "4        15                          1                     1   \n",
       "5         6                          0                     1   \n",
       "7        17                          1                     1   \n",
       "\n",
       "   Watch help / tutorial videos  Panic  \\\n",
       "0                             0      0   \n",
       "1                             0      0   \n",
       "4                             1      0   \n",
       "5                             1      0   \n",
       "7                             1      0   \n",
       "\n",
       "   Go for a walk or other physical activity  Meditate  \\\n",
       "0                                         1         0   \n",
       "1                                         1         0   \n",
       "4                                         0         0   \n",
       "5                                         0         0   \n",
       "7                                         1         0   \n",
       "\n",
       "   Do other work and come back later  Play games  \n",
       "0                                  1           0  \n",
       "1                                  0           0  \n",
       "4                                  1           0  \n",
       "5                                  1           1  \n",
       "7                                  1           1  "
      ],
      "text/html": "<div>\n<style scoped>\n    .dataframe tbody tr th:only-of-type {\n        vertical-align: middle;\n    }\n\n    .dataframe tbody tr th {\n        vertical-align: top;\n    }\n\n    .dataframe thead th {\n        text-align: right;\n    }\n</style>\n<table border=\"1\" class=\"dataframe\">\n  <thead>\n    <tr style=\"text-align: right;\">\n      <th></th>\n      <th>YearsCode</th>\n      <th>Call a coworker or friend</th>\n      <th>Visit Stack Overflow</th>\n      <th>Watch help / tutorial videos</th>\n      <th>Panic</th>\n      <th>Go for a walk or other physical activity</th>\n      <th>Meditate</th>\n      <th>Do other work and come back later</th>\n      <th>Play games</th>\n    </tr>\n  </thead>\n  <tbody>\n    <tr>\n      <th>0</th>\n      <td>36</td>\n      <td>0</td>\n      <td>1</td>\n      <td>0</td>\n      <td>0</td>\n      <td>1</td>\n      <td>0</td>\n      <td>1</td>\n      <td>0</td>\n    </tr>\n    <tr>\n      <th>1</th>\n      <td>7</td>\n      <td>0</td>\n      <td>1</td>\n      <td>0</td>\n      <td>0</td>\n      <td>1</td>\n      <td>0</td>\n      <td>0</td>\n      <td>0</td>\n    </tr>\n    <tr>\n      <th>4</th>\n      <td>15</td>\n      <td>1</td>\n      <td>1</td>\n      <td>1</td>\n      <td>0</td>\n      <td>0</td>\n      <td>0</td>\n      <td>1</td>\n      <td>0</td>\n    </tr>\n    <tr>\n      <th>5</th>\n      <td>6</td>\n      <td>0</td>\n      <td>1</td>\n      <td>1</td>\n      <td>0</td>\n      <td>0</td>\n      <td>0</td>\n      <td>1</td>\n      <td>1</td>\n    </tr>\n    <tr>\n      <th>7</th>\n      <td>17</td>\n      <td>1</td>\n      <td>1</td>\n      <td>1</td>\n      <td>0</td>\n      <td>1</td>\n      <td>0</td>\n      <td>1</td>\n      <td>1</td>\n    </tr>\n  </tbody>\n</table>\n</div>"
     },
     "metadata": {},
     "execution_count": 163
    }
   ],
   "source": [
    "df_6.head()"
   ]
  },
  {
   "cell_type": "code",
   "execution_count": 166,
   "metadata": {},
   "outputs": [],
   "source": [
    "# make YearsCode numerical\n",
    "df_6.loc[df_6['YearsCode'] == 'Less than 1 year', 'YearsCode'] = 0\n",
    "df_6.loc[df_6['YearsCode'] == 'More than 50 years', 'YearsCode'] = 51\n",
    "\n",
    "df_6['YearsCode'] = df_6['YearsCode'].astype(float)\n",
    "\n",
    "# split into train and test set\n",
    "y = df_6['YearsCode']\n",
    "X = df_6.drop(columns=['YearsCode'])\n",
    "\n",
    "X_train, X_test, y_train, y_test = train_test_split(X, y, test_size=.2, random_state=42)"
   ]
  },
  {
   "cell_type": "code",
   "execution_count": 167,
   "metadata": {},
   "outputs": [
    {
     "output_type": "execute_result",
     "data": {
      "text/plain": [
       "0.04092891948590782"
      ]
     },
     "metadata": {},
     "execution_count": 167
    }
   ],
   "source": [
    "# fit linear regression model\n",
    "lm_model = LinearRegression(normalize=True)\n",
    "lm_model.fit(X_train, y_train)\n",
    "y_pred = lm_model.predict(X_test)\n",
    "r2_score(y_test, y_pred)"
   ]
  },
  {
   "cell_type": "code",
   "execution_count": 168,
   "metadata": {},
   "outputs": [
    {
     "output_type": "execute_result",
     "data": {
      "text/plain": [
       "                                    est_int     coefs  abs_coefs\n",
       "3                                     Panic -2.395679   2.395679\n",
       "2              Watch help / tutorial videos -2.190738   2.190738\n",
       "7                                Play games -2.106830   2.106830\n",
       "4  Go for a walk or other physical activity  1.732896   1.732896\n",
       "6         Do other work and come back later  1.548600   1.548600\n",
       "5                                  Meditate  0.707230   0.707230\n",
       "1                      Visit Stack Overflow -0.397707   0.397707\n",
       "0                 Call a coworker or friend  0.120678   0.120678"
      ],
      "text/html": "<div>\n<style scoped>\n    .dataframe tbody tr th:only-of-type {\n        vertical-align: middle;\n    }\n\n    .dataframe tbody tr th {\n        vertical-align: top;\n    }\n\n    .dataframe thead th {\n        text-align: right;\n    }\n</style>\n<table border=\"1\" class=\"dataframe\">\n  <thead>\n    <tr style=\"text-align: right;\">\n      <th></th>\n      <th>est_int</th>\n      <th>coefs</th>\n      <th>abs_coefs</th>\n    </tr>\n  </thead>\n  <tbody>\n    <tr>\n      <th>3</th>\n      <td>Panic</td>\n      <td>-2.395679</td>\n      <td>2.395679</td>\n    </tr>\n    <tr>\n      <th>2</th>\n      <td>Watch help / tutorial videos</td>\n      <td>-2.190738</td>\n      <td>2.190738</td>\n    </tr>\n    <tr>\n      <th>7</th>\n      <td>Play games</td>\n      <td>-2.106830</td>\n      <td>2.106830</td>\n    </tr>\n    <tr>\n      <th>4</th>\n      <td>Go for a walk or other physical activity</td>\n      <td>1.732896</td>\n      <td>1.732896</td>\n    </tr>\n    <tr>\n      <th>6</th>\n      <td>Do other work and come back later</td>\n      <td>1.548600</td>\n      <td>1.548600</td>\n    </tr>\n    <tr>\n      <th>5</th>\n      <td>Meditate</td>\n      <td>0.707230</td>\n      <td>0.707230</td>\n    </tr>\n    <tr>\n      <th>1</th>\n      <td>Visit Stack Overflow</td>\n      <td>-0.397707</td>\n      <td>0.397707</td>\n    </tr>\n    <tr>\n      <th>0</th>\n      <td>Call a coworker or friend</td>\n      <td>0.120678</td>\n      <td>0.120678</td>\n    </tr>\n  </tbody>\n</table>\n</div>"
     },
     "metadata": {},
     "execution_count": 168
    }
   ],
   "source": [
    "# show correlation as coefficients in Linear Regression model\n",
    "coefs_df = pd.DataFrame()\n",
    "coefs_df['est_int'] = X_train.columns\n",
    "coefs_df['coefs'] = lm_model.coef_\n",
    "coefs_df['abs_coefs'] = np.abs(lm_model.coef_)\n",
    "coefs_df = coefs_df.sort_values('abs_coefs', ascending=False)\n",
    "coefs_df.head(20)"
   ]
  }
 ]
}